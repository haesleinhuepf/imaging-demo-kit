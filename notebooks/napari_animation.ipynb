{
  "cells": [
    {
      "cell_type": "markdown",
      "metadata": {},
      "source": "napari-animation: imaging-demo-kit\n==================================\n\n"
    },
    {
      "cell_type": "markdown",
      "metadata": {},
      "source": [
        "## Resources\n\n"
      ]
    },
    {
      "cell_type": "markdown",
      "metadata": {},
      "source": [
        "## Imports\n\n"
      ]
    },
    {
      "cell_type": "code",
      "execution_count": 1,
      "metadata": {},
      "outputs": [],
      "source": [
        "from scipy import ndimage as ndi\nfrom napari_animation import Animation\nimport napari\nimport skimage\nimport scipy"
      ]
    },
    {
      "cell_type": "markdown",
      "metadata": {},
      "source": [
        "## Demo of interactive napari-animation usage\n\n"
      ]
    },
    {
      "cell_type": "code",
      "execution_count": 1,
      "metadata": {},
      "outputs": [],
      "source": [
        "viewer = napari.Viewer(ndisplay=3)\n\nnuclei = skimage.data.cells3d()[:,1,...]\ndenoised = scipy.ndimage.median_filter(nuclei, size=3)\nth_nuclei = denoised > skimage.filters.threshold_li(denoised)\nth_nuclei = skimage.morphology.remove_small_holes(th_nuclei, 20**3)\nlabels_data = skimage.measure.label(th_nuclei)\n\nimage_layer = viewer.add_image(nuclei, name=\"nuclei\", depiction=\"plane\", blending='additive')\nlabels_layer = viewer.add_labels(labels_data, name=\"labels\")\n\nviewer.camera.angles = (-18.23797054423494, 41.97404742075617, 141.96173085742896)\n\nimage_layer.plane.position = (0, 0, 0)"
      ]
    },
    {
      "cell_type": "markdown",
      "metadata": {},
      "source": [
        "## Scriptfrom the community\n\n"
      ]
    },
    {
      "cell_type": "markdown",
      "metadata": {},
      "source": [
        "Check out this demo from the community that was collaboratively developed on the by Callum Tromans-Coia, Lorenzo Gaifas, and Alister Burt. For more details see [https://forum.image.sc/t/creating-an-animation-for-visualisation-of-3d-labels-emerging-from-a-2d-plane/77517/6](https://forum.image.sc/t/creating-an-animation-for-visualisation-of-3d-labels-emerging-from-a-2d-plane/77517/6).\n\n"
      ]
    },
    {
      "cell_type": "code",
      "execution_count": 1,
      "metadata": {},
      "outputs": [],
      "source": [
        "viewer = napari.Viewer(ndisplay=3)\n\nnuclei = skimage.data.cells3d()[:,1,...]\ndenoised = scipy.ndimage.median_filter(nuclei, size=3)\nth_nuclei = denoised > skimage.filters.threshold_li(denoised)\nth_nuclei = skimage.morphology.remove_small_holes(th_nuclei, 20**3)\nlabels_data = skimage.measure.label(th_nuclei)\n\nanimation = Animation(viewer)\n\nimage_layer = viewer.add_image(nuclei, name=\"nuclei\", depiction=\"plane\", blending='additive')\nlabels_layer = viewer.add_labels(labels_data, name=\"labels\")\n\nviewer.camera.angles = (-18.23797054423494, 41.97404742075617, 141.96173085742896)\n\ndef replace_labels_data():\n    z_cutoff = int(image_layer.plane.position[0])\n    new_labels_data = labels_data.copy()\n    new_labels_data[z_cutoff:] = 0\n    labels_layer.data = new_labels_data\n\nlabels_layer.visible = False\nimage_layer.plane.position = (0, 0, 0)\nanimation.capture_keyframe(steps=30)\n\nimage_layer.plane.position = (59, 0, 0)\nanimation.capture_keyframe(steps=30)\n\nimage_layer.plane.position = (0, 0, 0)\n\nanimation.capture_keyframe(steps=30)\n\nimage_layer.plane.events.position.connect(replace_labels_data)\nlabels_layer.visible = True\nlabels_layer.experimental_clipping_planes = [{\n    \"position\": (0, 0, 0),\n    \"normal\": (-1, 0, 0),  # point up in z (i.e: show stuff above plane)\n}]\n\nimage_layer.plane.position = (59, 0, 0)\n# access first plane, since it's a list\nlabels_layer.experimental_clipping_planes[0].position = (59, 0, 0)\nanimation.capture_keyframe(steps=30)\n\nimage_layer.plane.position = (0, 0, 0)\nanimation.capture_keyframe(steps=30)\n\nanimation.animate(\"napari_animation_TromansCoia_Gaifas_burt.mp4\", canvas_only=True)\nimage_layer.plane.position = (0, 0, 0)"
      ]
    },
    {
      "cell_type": "markdown",
      "metadata": {},
      "source": [
        "### Video\n\n"
      ]
    },
    {
      "cell_type": "code",
      "execution_count": 1,
      "metadata": {},
      "outputs": [],
      "source": [
        "from IPython.display import HTML\n\nHTML(\"\"\"\n<div align=\"middle\">\n<video width=\"80%\" controls>\n      <source src=\"napari_animation_TromansCoia_Gaifas_burt.mp4\" type=\"video/mp4\">\n</video></div>\"\"\")"
      ]
    }
  ],
  "metadata": {
    "org": null,
    "kernelspec": {
      "display_name": "Python 3",
      "language": "python",
      "name": "python3"
    },
    "language_info": {
      "codemirror_mode": {
        "name": "ipython",
        "version": 3
      },
      "file_extension": ".py",
      "mimetype": "text/x-python",
      "name": "python",
      "nbconvert_exporter": "python",
      "pygments_lexer": "ipython3",
      "version": "3.5.2"
    }
  },
  "nbformat": 4,
  "nbformat_minor": 0
}
