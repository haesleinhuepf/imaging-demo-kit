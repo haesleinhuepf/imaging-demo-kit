{
 "cells": [
  {
   "cell_type": "markdown",
   "metadata": {},
   "source": [
    "napari-animation: imaging-demo-kit\n",
    "==================================\n",
    "\n"
   ]
  },
  {
   "cell_type": "markdown",
   "metadata": {},
   "source": [
    "## Imports\n",
    "\n"
   ]
  },
  {
   "cell_type": "code",
   "execution_count": 7,
   "metadata": {},
   "outputs": [],
   "source": [
    "from scipy import ndimage as ndi\n",
    "from napari_animation import Animation\n",
    "import napari\n",
    "import skimage\n",
    "import scipy"
   ]
  },
  {
   "cell_type": "markdown",
   "metadata": {},
   "source": [
    "## Demo of interactive napari-animation usage\n",
    "\n"
   ]
  },
  {
   "cell_type": "code",
   "execution_count": 1,
   "metadata": {},
   "outputs": [],
   "source": [
    "viewer = napari.Viewer(ndisplay=3)\n",
    "\n",
    "nuclei = skimage.data.cells3d()[:,1,...]\n",
    "denoised = scipy.ndimage.median_filter(nuclei, size=3)\n",
    "th_nuclei = denoised > skimage.filters.threshold_li(denoised)\n",
    "th_nuclei = skimage.morphology.remove_small_holes(th_nuclei, 20**3)\n",
    "labels_data = skimage.measure.label(th_nuclei)\n",
    "\n",
    "image_layer = viewer.add_image(nuclei, name=\"nuclei\", depiction=\"plane\", blending='additive')\n",
    "labels_layer = viewer.add_labels(labels_data, name=\"labels\")\n",
    "\n",
    "viewer.camera.angles = (-18.23797054423494, 41.97404742075617, 141.96173085742896)\n",
    "\n",
    "image_layer.plane.position = (0, 0, 0)"
   ]
  },
  {
   "cell_type": "markdown",
   "metadata": {},
   "source": [
    "## Script from the community\n",
    "\n"
   ]
  },
  {
   "cell_type": "markdown",
   "metadata": {},
   "source": [
    "Check out this demo from the community that was collaboratively developed on the by Callum Tromans-Coia, Lorenzo Gaifas, and Alister Burt. For more details see [https://forum.image.sc/t/creating-an-animation-for-visualisation-of-3d-labels-emerging-from-a-2d-plane/77517/6](https://forum.image.sc/t/creating-an-animation-for-visualisation-of-3d-labels-emerging-from-a-2d-plane/77517/6).\n",
    "\n"
   ]
  },
  {
   "cell_type": "code",
   "execution_count": 8,
   "metadata": {},
   "outputs": [
    {
     "name": "stdout",
     "output_type": "stream",
     "text": [
      "Rendering frames...\n"
     ]
    },
    {
     "name": "stderr",
     "output_type": "stream",
     "text": [
      "  0%|                                                                                                                                                                                                                      | 0/121 [00:00<?, ?it/s]IMAGEIO FFMPEG_WRITER WARNING: input image is not divisible by macro_block_size=16, resizing from (1922, 2454) to (1936, 2464) to ensure video compatibility with most codecs and players. To prevent resizing, make your input image divisible by the macro_block_size or set the macro_block_size to 1 (risking incompatibility).\n",
      "100%|████████████████████████████████████████████████████████████████████████████████████████████████████████████████████████████████████████████████████████████████████████████████████████████████████████████| 121/121 [00:09<00:00, 12.89it/s]\n"
     ]
    }
   ],
   "source": [
    "viewer = napari.Viewer(ndisplay=3)\n",
    "\n",
    "nuclei = skimage.data.cells3d()[:,1,...]\n",
    "denoised = scipy.ndimage.median_filter(nuclei, size=3)\n",
    "th_nuclei = denoised > skimage.filters.threshold_li(denoised)\n",
    "th_nuclei = skimage.morphology.remove_small_holes(th_nuclei, 20**3)\n",
    "labels_data = skimage.measure.label(th_nuclei)\n",
    "\n",
    "animation = Animation(viewer)\n",
    "\n",
    "image_layer = viewer.add_image(nuclei, name=\"nuclei\", depiction=\"plane\", blending='additive')\n",
    "labels_layer = viewer.add_labels(labels_data, name=\"labels\")\n",
    "\n",
    "viewer.camera.angles = (-18.23797054423494, 41.97404742075617, 141.96173085742896)\n",
    "\n",
    "def replace_labels_data():\n",
    "    z_cutoff = int(image_layer.plane.position[0])\n",
    "    new_labels_data = labels_data.copy()\n",
    "    new_labels_data[z_cutoff:] = 0\n",
    "    labels_layer.data = new_labels_data\n",
    "\n",
    "labels_layer.visible = False\n",
    "image_layer.plane.position = (0, 0, 0)\n",
    "animation.capture_keyframe(steps=30)\n",
    "\n",
    "image_layer.plane.position = (59, 0, 0)\n",
    "animation.capture_keyframe(steps=30)\n",
    "\n",
    "image_layer.plane.position = (0, 0, 0)\n",
    "\n",
    "animation.capture_keyframe(steps=30)\n",
    "\n",
    "image_layer.plane.events.position.connect(replace_labels_data)\n",
    "labels_layer.visible = True\n",
    "labels_layer.experimental_clipping_planes = [{\n",
    "    \"position\": (0, 0, 0),\n",
    "    \"normal\": (-1, 0, 0),  # point up in z (i.e: show stuff above plane)\n",
    "}]\n",
    "\n",
    "image_layer.plane.position = (59, 0, 0)\n",
    "# access first plane, since it's a list\n",
    "labels_layer.experimental_clipping_planes[0].position = (59, 0, 0)\n",
    "animation.capture_keyframe(steps=30)\n",
    "\n",
    "image_layer.plane.position = (0, 0, 0)\n",
    "animation.capture_keyframe(steps=30)\n",
    "\n",
    "animation.animate(\"napari_animation_TromansCoia_Gaifas_burt.mp4\", canvas_only=True)\n",
    "image_layer.plane.position = (0, 0, 0)"
   ]
  },
  {
   "cell_type": "markdown",
   "metadata": {},
   "source": [
    "### Video\n",
    "\n"
   ]
  },
  {
   "cell_type": "code",
   "execution_count": 9,
   "metadata": {},
   "outputs": [
    {
     "data": {
      "text/html": [
       "\n",
       "<div align=\"middle\">\n",
       "<video width=\"80%\" controls>\n",
       "      <source src=\"napari_animation_TromansCoia_Gaifas_burt.mp4\" type=\"video/mp4\">\n",
       "</video></div>"
      ],
      "text/plain": [
       "<IPython.core.display.HTML object>"
      ]
     },
     "execution_count": 9,
     "metadata": {},
     "output_type": "execute_result"
    }
   ],
   "source": [
    "from IPython.display import HTML\n",
    "\n",
    "HTML(\"\"\"\n",
    "<div align=\"middle\">\n",
    "<video width=\"80%\" controls>\n",
    "      <source src=\"napari_animation_TromansCoia_Gaifas_burt.mp4\" type=\"video/mp4\">\n",
    "</video></div>\"\"\")"
   ]
  }
 ],
 "metadata": {
  "kernelspec": {
   "display_name": "Python 3 (ipykernel)",
   "language": "python",
   "name": "python3"
  },
  "language_info": {
   "codemirror_mode": {
    "name": "ipython",
    "version": 3
   },
   "file_extension": ".py",
   "mimetype": "text/x-python",
   "name": "python",
   "nbconvert_exporter": "python",
   "pygments_lexer": "ipython3",
   "version": "3.10.8"
  },
  "org": null
 },
 "nbformat": 4,
 "nbformat_minor": 1
}
