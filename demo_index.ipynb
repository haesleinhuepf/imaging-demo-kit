{
 "cells": [
  {
   "cell_type": "markdown",
   "metadata": {},
   "source": [
    "AAAS 2023 napari demo notebooks\n",
    "===============================\n",
    "\n"
   ]
  },
  {
   "cell_type": "markdown",
   "metadata": {},
   "source": [
    "## The napari Viewer\n",
    "\n"
   ]
  },
  {
   "cell_type": "markdown",
   "metadata": {},
   "source": [
    "[./notebooks/basics.ipynb](./notebooks/machine-learning-tools.ipynb)\n",
    "\n",
    "\n"
   ]
  },
  {
   "cell_type": "markdown",
   "metadata": {},
   "source": [
    "## Machine Learning\n",
    "\n"
   ]
  },
  {
   "cell_type": "markdown",
   "metadata": {},
   "source": [
    "[./notebooks/machine-learning-tools.ipynb](./notebooks/machine-learning-tools.ipynb)\n",
    "\n"
   ]
  },
  {
   "cell_type": "markdown",
   "metadata": {},
   "source": [
    "## Image Segmentation\n",
    "\n"
   ]
  },
  {
   "cell_type": "markdown",
   "metadata": {},
   "source": [
    "[./notebooks/segmentation.ipynb](./notebooks/segmentation.ipynb)\n",
    "\n"
   ]
  },
  {
   "cell_type": "markdown",
   "metadata": {},
   "source": [
    "## napari-animation\n",
    "\n"
   ]
  },
  {
   "cell_type": "markdown",
   "metadata": {},
   "source": [
    "[./notebooks/napari_animation.ipynb](./notebooks/napari_animation.ipynb)\n",
    "\n"
   ]
  },
  {
   "cell_type": "markdown",
   "metadata": {},
   "source": [
    "## Demo Videos\n",
    "\n"
   ]
  },
  {
   "cell_type": "markdown",
   "metadata": {},
   "source": [
    "- from Kyle [https://docs.google.com/presentation/d/1iPviFybzbIIh8oG_fiOfGnlW1vYOFcAvSEJ324bbEEo/edit?usp=sharing](https://docs.google.com/presentation/d/1iPviFybzbIIh8oG_fiOfGnlW1vYOFcAvSEJ324bbEEo/edit?usp=sharing)\n",
    "- Royer lab data: https://static-content.springer.com/esm/art%3A10.1038%2Fs41592-022-01417-2/MediaObjects/41592_2022_1417_MOESM9_ESM.mp4"
   ]
  },
  {
   "cell_type": "markdown",
   "metadata": {},
   "source": [
    "## napari/Fiji parity\n",
    "\n"
   ]
  },
  {
   "cell_type": "markdown",
   "metadata": {},
   "source": [
    "Fiji is an ImageJ based tool that delivers decades of ImageJ plugin development, primarily through a GUI based interface.\n",
    "It has gained significant appeal because the primary mode of use has always been oriented around the ImageJ UI.\n",
    "\n",
    "napari leverages the scientific Python and machine learning ecosystems to provide advanced functionality.\n",
    "The primary mode of use for napari is through literate programming, like Jupyter Notebooks, but the UI is still an option.\n",
    "\n",
    "-   napari currently does not provide as many GUI-based options for image processing routines as Fiji; however, the equivalent functionality **is** available through scientific Python.\n",
    "-   napari offers significantly improved support for the latest machine learning algorithms.\n",
    "-   napari has become one of the most popular choices in the imaging community due to its extensibility.\n",
    "\n"
   ]
  },
  {
   "cell_type": "markdown",
   "metadata": {},
   "source": [
    "## Additional resources\n",
    "\n"
   ]
  },
  {
   "cell_type": "markdown",
   "metadata": {},
   "source": [
    "-   the [napari docs](https://napari.org/stable/usage.html) for learning about core napari features\n",
    "-   the [napari-hub](https://www.napari-hub.org) for discovering and browsing napari plugins\n",
    "-   the [Bio-Image Analysis Notebooks](https://haesleinhuepf.github.io/BioImageAnalysisNotebooks/intro.html) by Robert Haase et al. contains numerous advanced napari examples\n",
    "\n"
   ]
  }
 ],
 "metadata": {
  "kernelspec": {
   "display_name": "Python 3 (ipykernel)",
   "language": "python",
   "name": "python3"
  },
  "language_info": {
   "codemirror_mode": {
    "name": "ipython",
    "version": 3
   },
   "file_extension": ".py",
   "mimetype": "text/x-python",
   "name": "python",
   "nbconvert_exporter": "python",
   "pygments_lexer": "ipython3",
   "version": "3.10.8"
  },
  "org": null
 },
 "nbformat": 4,
 "nbformat_minor": 1
}
